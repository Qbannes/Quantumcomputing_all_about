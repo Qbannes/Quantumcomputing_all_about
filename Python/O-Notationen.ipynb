{
 "cells": [
  {
   "cell_type": "code",
   "execution_count": null,
   "id": "fa59711d",
   "metadata": {},
   "outputs": [],
   "source": [
    "# Beispiel für eine Zeitkomplexität von O(n) -> Der Aufwand ist linear und steigt\n",
    "# linear mit der Eingabemenge\n",
    "\n",
    "\n",
    "\n",
    "def lineare_Suche(data, Zielwert):\n",
    "    \"\"\"Durchsucht eine Liste nach einem Zielwert (lineare Suche).\"\"\"\n",
    "    for Index, Element in enumerate(data):  # Ein Durchlauf über alle Elemente\n",
    "        if Element == Zielwert:\n",
    "            return Index  # Gefundener Index\n",
    "    return \"nicht gefunden\"  # Nicht gefunden\n",
    "\n",
    "# Beispielaufruf\n",
    "numbers = [4, 2, 7, 1, 9, 5]\n",
    "numbers2 = [3, 8, 6, 0, 2]\n",
    "target_value = 2\n",
    "\n",
    "Ergebnis = lineare_Suche(numbers2, target_value)\n",
    "print(f\"Der Wert {target_value} wurde im Index {Ergebnis} gefunden.\")\n",
    "print(numbers)\n",
    "\n",
    "\n"
   ]
  }
 ],
 "metadata": {
  "kernelspec": {
   "display_name": "base",
   "language": "python",
   "name": "python3"
  },
  "language_info": {
   "codemirror_mode": {
    "name": "ipython",
    "version": 3
   },
   "file_extension": ".py",
   "mimetype": "text/x-python",
   "name": "python",
   "nbconvert_exporter": "python",
   "pygments_lexer": "ipython3",
   "version": "3.12.7"
  }
 },
 "nbformat": 4,
 "nbformat_minor": 5
}
