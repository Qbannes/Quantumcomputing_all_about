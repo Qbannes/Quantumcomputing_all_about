{
 "cells": [
  {
   "cell_type": "code",
   "execution_count": 59,
   "id": "b4f312b6",
   "metadata": {},
   "outputs": [],
   "source": [
    "import numpy as np\n",
    "\n",
    "# Matrix aus Liste erstellen\n",
    "A = np.array([[1, 2], [3, 4]])  \n",
    "B = np.array([[5, 6], [7, 8]])\n",
    "\n",
    "# Spezialmatrizen\n",
    "Einheitsmatrix = np.eye(3)  # 3x3 Einheitsmatrix\n",
    "Nullmatrix = np.zeros((2,2))  # 2x2 Nullmatrix\n",
    "Einsmatrix = np.ones((3,2))  # 3x2 Matrix mit Einsen\n"
   ]
  },
  {
   "cell_type": "code",
   "execution_count": 60,
   "id": "952ddeca",
   "metadata": {},
   "outputs": [],
   "source": [
    "# Elementweise Addition/Subtraktion\n",
    "C = A + B  # [[6, 8], [10, 12]]\n",
    "D = A - B  # [[-4, -4], [-4, -4]]\n",
    "\n",
    "# Skalare Multiplikation\n",
    "E = 3 * A  # [[3, 6], [9, 12]]\n",
    "\n",
    "# Elementweise Multiplikation (Hadamard-Produkt)\n",
    "F = np.multiply(A, B)  # [[5, 12], [21, 32]]\n"
   ]
  },
  {
   "cell_type": "code",
   "execution_count": 61,
   "id": "3b712026",
   "metadata": {},
   "outputs": [],
   "source": [
    "# Klassisches Matrixprodukt (Zeile x Spalte)\n",
    "G = np.dot(A, B)  # [[19, 22], [43, 50]]\n",
    "\n",
    "# Alternative mit @-Operator\n",
    "H = A @ B  # [[19, 22], [43, 50]]\n",
    "\n",
    "# Für höhere Dimensionen\n",
    "I = np.matmul(A, B)  # Äquivalent zu dot()\n"
   ]
  },
  {
   "cell_type": "code",
   "execution_count": 62,
   "id": "b9096c3d",
   "metadata": {},
   "outputs": [],
   "source": [
    "A = np.array([[1, 2]])    # Shape (1,2)\n",
    "B = np.array([[3], [4]])  # Shape (2,1)\n",
    "C = A @ B  # [[11]] - gültig!\n"
   ]
  },
  {
   "cell_type": "code",
   "execution_count": 63,
   "id": "43affb46",
   "metadata": {},
   "outputs": [],
   "source": [
    "# Für Determinante, Rang und Spur benötigen wir eine quadratische Matrix.\n",
    "A = np.array([[1, 2], [3, 4]])  # 2x2 Matrix\n",
    "\n",
    "# Transponierte\n",
    "A_trans = A.T  # [[1, 3], [2, 4]]\n",
    "\n",
    "# Determinante\n",
    "det_A = np.linalg.det(A)  # -2.0\n",
    "\n",
    "# Rang\n",
    "rank_A = np.linalg.matrix_rank(A)  # 2\n",
    "\n",
    "# Spur (Summe der Diagonalelemente)\n",
    "spur_A = np.trace(A)  # 5\n"
   ]
  },
  {
   "cell_type": "code",
   "execution_count": 64,
   "id": "cee97f72",
   "metadata": {},
   "outputs": [],
   "source": [
    "# Nur für quadratische Matrizen mit det ≠ 0\n",
    "A_square = np.array([[1, 2], [3, 4]])  # 2x2 Matrix\n",
    "A_inv = np.linalg.inv(A_square)  # [[-2, 1], [1.5, -0.5]]\n"
   ]
  },
  {
   "cell_type": "code",
   "execution_count": 65,
   "id": "e6d4d631",
   "metadata": {},
   "outputs": [
    {
     "name": "stdout",
     "output_type": "stream",
     "text": [
      "Vorzeichen: -1.0\n",
      "Logarithmus der Determinante: 79216.00515731917\n"
     ]
    }
   ],
   "source": [
    "import numpy as np\n",
    "\n",
    "matrix = np.random.rand(24000, 24000)\n",
    "sign, logdet = np.linalg.slogdet(matrix)\n",
    "print(\"Vorzeichen:\", sign)\n",
    "print(\"Logarithmus der Determinante:\", logdet)"
   ]
  }
 ],
 "metadata": {
  "kernelspec": {
   "display_name": "base",
   "language": "python",
   "name": "python3"
  },
  "language_info": {
   "codemirror_mode": {
    "name": "ipython",
    "version": 3
   },
   "file_extension": ".py",
   "mimetype": "text/x-python",
   "name": "python",
   "nbconvert_exporter": "python",
   "pygments_lexer": "ipython3",
   "version": "3.12.7"
  }
 },
 "nbformat": 4,
 "nbformat_minor": 5
}
