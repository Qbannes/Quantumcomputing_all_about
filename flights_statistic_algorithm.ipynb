{
 "cells": [
  {
   "cell_type": "code",
   "execution_count": null,
   "id": "2b66d1a1",
   "metadata": {},
   "outputs": [
    {
     "name": "stdout",
     "output_type": "stream",
     "text": [
      "Benötigte Zeit für das Sortieren: 9.4737 Sekunden\n",
      "      YEAR  MONTH  DAY  DAY_OF_WEEK AIRLINE  FLIGHT_NUMBER TAIL_NUMBER  \\\n",
      "2440  2015      1    1            4      AA              1      N787AA   \n",
      "2441  2015      1    1            4      AA              2      N795AA   \n",
      "5663  2015      1    1            4      AA              3      N798AA   \n",
      "5521  2015      1    1            4      AA              4      N799AA   \n",
      "6205  2015      1    1            4      AA              5      N376AA   \n",
      "\n",
      "     ORIGIN_AIRPORT DESTINATION_AIRPORT  SCHEDULED_DEPARTURE  ...  \\\n",
      "2440            JFK                 LAX                  900  ...   \n",
      "2441            LAX                 JFK                  900  ...   \n",
      "5663            JFK                 LAX                 1230  ...   \n",
      "5521            LAX                 JFK                 1220  ...   \n",
      "6205            DFW                 HNL                 1305  ...   \n",
      "\n",
      "      ARRIVAL_TIME  ARRIVAL_DELAY  DIVERTED  CANCELLED  CANCELLATION_REASON  \\\n",
      "2440        1237.0            7.0         0          0                  NaN   \n",
      "2441        1651.0          -44.0         0          0                  NaN   \n",
      "5663        1548.0           -2.0         0          0                  NaN   \n",
      "5521        2033.0          -17.0         0          0                  NaN   \n",
      "6205        2240.0          300.0         0          0                  NaN   \n",
      "\n",
      "      AIR_SYSTEM_DELAY  SECURITY_DELAY  AIRLINE_DELAY  LATE_AIRCRAFT_DELAY  \\\n",
      "2440               NaN             NaN            NaN                  NaN   \n",
      "2441               NaN             NaN            NaN                  NaN   \n",
      "5663               NaN             NaN            NaN                  NaN   \n",
      "5521               NaN             NaN            NaN                  NaN   \n",
      "6205              11.0             0.0          197.0                 92.0   \n",
      "\n",
      "      WEATHER_DELAY  \n",
      "2440            NaN  \n",
      "2441            NaN  \n",
      "5663            NaN  \n",
      "5521            NaN  \n",
      "6205            0.0  \n",
      "\n",
      "[5 rows x 31 columns]\n"
     ]
    }
   ],
   "source": [
    "import pandas as pd\n",
    "import time\n",
    "\n",
    "csv_path = r\"C:\\Users\\juanc\\Documents\\Ausbildung_Informatik\\Quantencomputing\\flights.csv\"\n",
    "\n",
    "# CSV einlesen\n",
    "df = pd.read_csv(\n",
    "    csv_path,\n",
    "    dtype={'ORIGIN_AIRPORT': str, 'DESTINATION_AIRPORT': str},\n",
    "    low_memory=False\n",
    ")\n",
    "\n",
    "end = time.time()\n",
    "print(f\"Benötigte Zeit für das Sortieren: {end - start:.4f} Sekunden\")\n"
   ]
  },
  {
   "cell_type": "code",
   "execution_count": 91,
   "id": "94343020",
   "metadata": {},
   "outputs": [
    {
     "name": "stdout",
     "output_type": "stream",
     "text": [
      "Benötigte Zeit für das Sortieren: 10.4088 Sekunden\n",
      "      YEAR  MONTH  DAY  DAY_OF_WEEK AIRLINE  FLIGHT_NUMBER TAIL_NUMBER  \\\n",
      "2440  2015      1    1            4      AA              1      N787AA   \n",
      "2441  2015      1    1            4      AA              2      N795AA   \n",
      "5663  2015      1    1            4      AA              3      N798AA   \n",
      "5521  2015      1    1            4      AA              4      N799AA   \n",
      "6205  2015      1    1            4      AA              5      N376AA   \n",
      "\n",
      "     ORIGIN_AIRPORT DESTINATION_AIRPORT  SCHEDULED_DEPARTURE  ...  \\\n",
      "2440            JFK                 LAX                  900  ...   \n",
      "2441            LAX                 JFK                  900  ...   \n",
      "5663            JFK                 LAX                 1230  ...   \n",
      "5521            LAX                 JFK                 1220  ...   \n",
      "6205            DFW                 HNL                 1305  ...   \n",
      "\n",
      "      ARRIVAL_TIME  ARRIVAL_DELAY  DIVERTED  CANCELLED  CANCELLATION_REASON  \\\n",
      "2440        1237.0            7.0         0          0                  NaN   \n",
      "2441        1651.0          -44.0         0          0                  NaN   \n",
      "5663        1548.0           -2.0         0          0                  NaN   \n",
      "5521        2033.0          -17.0         0          0                  NaN   \n",
      "6205        2240.0          300.0         0          0                  NaN   \n",
      "\n",
      "      AIR_SYSTEM_DELAY  SECURITY_DELAY  AIRLINE_DELAY  LATE_AIRCRAFT_DELAY  \\\n",
      "2440               NaN             NaN            NaN                  NaN   \n",
      "2441               NaN             NaN            NaN                  NaN   \n",
      "5663               NaN             NaN            NaN                  NaN   \n",
      "5521               NaN             NaN            NaN                  NaN   \n",
      "6205              11.0             0.0          197.0                 92.0   \n",
      "\n",
      "      WEATHER_DELAY  \n",
      "2440            NaN  \n",
      "2441            NaN  \n",
      "5663            NaN  \n",
      "5521            NaN  \n",
      "6205            0.0  \n",
      "\n",
      "[5 rows x 31 columns]\n"
     ]
    }
   ],
   "source": [
    "# Sortieren nach allen Spalten und Zeitmessung\n",
    "start = time.time()\n",
    "\n",
    "df_sorted = df.sort_values(by=list(df.columns), kind=\"quicksort\")\n",
    "\n",
    "end = time.time()\n",
    "print(f\"Benötigte Zeit für das Sortieren: {end - start:.4f} Sekunden\")\n",
    "\n",
    "# Optional: Die ersten Zeilen des sortierten DataFrames anzeigen\n",
    "print(df_sorted.head())"
   ]
  },
  {
   "cell_type": "code",
   "execution_count": 90,
   "id": "ef4f7e15",
   "metadata": {},
   "outputs": [
    {
     "name": "stdout",
     "output_type": "stream",
     "text": [
      "Benötigte Zeit für das Sortieren: 10.2595 Sekunden\n",
      "      YEAR  MONTH  DAY  DAY_OF_WEEK AIRLINE  FLIGHT_NUMBER TAIL_NUMBER  \\\n",
      "2440  2015      1    1            4      AA              1      N787AA   \n",
      "2441  2015      1    1            4      AA              2      N795AA   \n",
      "5663  2015      1    1            4      AA              3      N798AA   \n",
      "5521  2015      1    1            4      AA              4      N799AA   \n",
      "6205  2015      1    1            4      AA              5      N376AA   \n",
      "\n",
      "     ORIGIN_AIRPORT DESTINATION_AIRPORT  SCHEDULED_DEPARTURE  ...  \\\n",
      "2440            JFK                 LAX                  900  ...   \n",
      "2441            LAX                 JFK                  900  ...   \n",
      "5663            JFK                 LAX                 1230  ...   \n",
      "5521            LAX                 JFK                 1220  ...   \n",
      "6205            DFW                 HNL                 1305  ...   \n",
      "\n",
      "      ARRIVAL_TIME  ARRIVAL_DELAY  DIVERTED  CANCELLED  CANCELLATION_REASON  \\\n",
      "2440        1237.0            7.0         0          0                  NaN   \n",
      "2441        1651.0          -44.0         0          0                  NaN   \n",
      "5663        1548.0           -2.0         0          0                  NaN   \n",
      "5521        2033.0          -17.0         0          0                  NaN   \n",
      "6205        2240.0          300.0         0          0                  NaN   \n",
      "\n",
      "      AIR_SYSTEM_DELAY  SECURITY_DELAY  AIRLINE_DELAY  LATE_AIRCRAFT_DELAY  \\\n",
      "2440               NaN             NaN            NaN                  NaN   \n",
      "2441               NaN             NaN            NaN                  NaN   \n",
      "5663               NaN             NaN            NaN                  NaN   \n",
      "5521               NaN             NaN            NaN                  NaN   \n",
      "6205              11.0             0.0          197.0                 92.0   \n",
      "\n",
      "      WEATHER_DELAY  \n",
      "2440            NaN  \n",
      "2441            NaN  \n",
      "5663            NaN  \n",
      "5521            NaN  \n",
      "6205            0.0  \n",
      "\n",
      "[5 rows x 31 columns]\n"
     ]
    }
   ],
   "source": [
    "# Sortieren nach allen Spalten und Zeitmessung\n",
    "start = time.time()\n",
    "\n",
    "df_sorted = df.sort_values(by=list(df.columns), kind=\"mergesort\")\n",
    "\n",
    "end = time.time()\n",
    "print(f\"Benötigte Zeit für das Sortieren: {end - start:.4f} Sekunden\")\n",
    "\n",
    "# Optional: Die ersten Zeilen des sortierten DataFrames anzeigen\n",
    "print(df_sorted.head())"
   ]
  }
 ],
 "metadata": {
  "kernelspec": {
   "display_name": "base",
   "language": "python",
   "name": "python3"
  },
  "language_info": {
   "codemirror_mode": {
    "name": "ipython",
    "version": 3
   },
   "file_extension": ".py",
   "mimetype": "text/x-python",
   "name": "python",
   "nbconvert_exporter": "python",
   "pygments_lexer": "ipython3",
   "version": "3.12.7"
  }
 },
 "nbformat": 4,
 "nbformat_minor": 5
}
