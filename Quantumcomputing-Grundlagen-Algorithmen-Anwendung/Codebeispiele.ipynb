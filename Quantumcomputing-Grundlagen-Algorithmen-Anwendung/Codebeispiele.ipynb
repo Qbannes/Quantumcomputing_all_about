{
 "cells": [
  {
   "cell_type": "code",
   "execution_count": null,
   "id": "c1d8d353",
   "metadata": {},
   "outputs": [
    {
     "name": "stdout",
     "output_type": "stream",
     "text": [
      "Statevector([0.+0.j, 1.+0.j],\n",
      "            dims=(2,))\n"
     ]
    }
   ],
   "source": [
    "# Listing 4.1, S. 78: Präperation eines Qubits mit entsprechender Ausgabe\n",
    "# ----------------------------------------------------------------\n",
    "\n",
    "\n",
    "from qiskit import QuantumCircuit\n",
    "from qiskit.quantum_info import Statevector\n",
    "\n",
    "\n",
    "# Initialisiere ein Qubit\n",
    "circ = QuantumCircuit(1)\n",
    "\n",
    "# Formuliere den Zustandsvektor\n",
    "statevector = Statevector.from_label('1')\n",
    "\n",
    "# Setze den initial präperierten Zustand des Quantensystems\n",
    "# gleich diesem gewünschten Zustandsvektor\n",
    "statevector = statevector.evolve(circ)\n",
    "\n",
    "# Gib den Zustandsvektor aus\n",
    "print(statevector)"
   ]
  }
 ],
 "metadata": {
  "kernelspec": {
   "display_name": "base",
   "language": "python",
   "name": "python3"
  },
  "language_info": {
   "codemirror_mode": {
    "name": "ipython",
    "version": 3
   },
   "file_extension": ".py",
   "mimetype": "text/x-python",
   "name": "python",
   "nbconvert_exporter": "python",
   "pygments_lexer": "ipython3",
   "version": "3.12.7"
  }
 },
 "nbformat": 4,
 "nbformat_minor": 5
}
