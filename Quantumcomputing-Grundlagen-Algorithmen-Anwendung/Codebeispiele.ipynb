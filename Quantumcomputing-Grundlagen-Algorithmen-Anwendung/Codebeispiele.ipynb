{
 "cells": [
  {
   "cell_type": "code",
   "execution_count": 2,
   "id": "c1d8d353",
   "metadata": {},
   "outputs": [
    {
     "name": "stdout",
     "output_type": "stream",
     "text": [
      "Statevector([0.+0.j, 1.+0.j],\n",
      "            dims=(2,))\n"
     ]
    }
   ],
   "source": [
    "# Listing 4.1, S. 78: Präperation eines Qubits mit entsprechender Ausgabe\n",
    "# ----------------------------------------------------------------\n",
    "\n",
    "\n",
    "from qiskit import QuantumCircuit\n",
    "from qiskit.quantum_info import Statevector\n",
    "\n",
    "\n",
    "# Initialisiere ein Qubit\n",
    "circ = QuantumCircuit(1)\n",
    "\n",
    "# Formuliere den Zustandsvektor\n",
    "statevector = Statevector.from_label('1')\n",
    "\n",
    "# Setze den initial präperierten Zustand des Quantensystems\n",
    "# gleich diesem gewünschten Zustandsvektor\n",
    "statevector = statevector.evolve(circ)\n",
    "\n",
    "# Gib den Zustandsvektor aus\n",
    "print(statevector)"
   ]
  },
  {
   "cell_type": "code",
   "execution_count": 3,
   "id": "821946e7",
   "metadata": {},
   "outputs": [
    {
     "name": "stdout",
     "output_type": "stream",
     "text": [
      "Statevector([0.70710678+0.j, 0.70710678+0.j],\n",
      "            dims=(2,))\n"
     ]
    }
   ],
   "source": [
    "# Listing 4.2, S. 92: Anwendung der Hadamard-Matrix auf ein Qubit\n",
    "# ----------------------------------------------------------------\n",
    "\n",
    "circ = QuantumCircuit(1)\n",
    "\n",
    "# Wende die Hadamard-Matrix auf das Qubit an\n",
    "circ.h(0)\n",
    "\n",
    "Statevector(circ)\n"
   ]
  },
  {
   "cell_type": "code",
   "execution_count": null,
   "id": "5f087a82",
   "metadata": {},
   "outputs": [
    {
     "name": "stdout",
     "output_type": "stream",
     "text": [
      "Statevector([1.+0.j, 0.+0.j],\n",
      "            dims=(2,))\n"
     ]
    }
   ],
   "source": [
    "# Listing 4.4, S. 95: Anwendung der Pauli-X-Matrix auf ein Qubit\n",
    "# ----------------------------------------------------------------\n",
    "\n",
    "\n",
    "# Initialisierung eines Qubits\n",
    "circ = QuantumCircuit(1)\n",
    "\n",
    "# Wende die Pauli-X-Matrix auf das Qubit an\n",
    "circ.x(0)\n",
    "\n",
    "# Formuliere den Zustandsvektor, der zu präparieren ist\n",
    "statevector = Statevector.from_int(1,2)\n",
    "# Setze den initial präperierten Zustand des Quantensystems\n",
    "# gleich dem gewünschten Zustandsvektor und\n",
    "# initiiere danach die gewünschen Manipulationen\n",
    "statevector = statevector.evolve(circ)\n",
    "\n",
    "# Gib den Zustandsvektor aus\n",
    "print(statevector)"
   ]
  },
  {
   "cell_type": "code",
   "execution_count": 32,
   "id": "fc26abb6",
   "metadata": {},
   "outputs": [
    {
     "name": "stdout",
     "output_type": "stream",
     "text": [
      "Statevector([ 0.70710678+0.j, -0.70710678+0.j],\n",
      "            dims=(2,))\n"
     ]
    }
   ],
   "source": [
    "# Listing 4.4, S. 95: Anwendung der Pauli-Z-Matrix auf ein Qubit\n",
    "# ----------------------------------------------------------------\n",
    "\n",
    "# Initialisierung eines Qubits\n",
    "newcirc = QuantumCircuit(1)\n",
    "circ = QuantumCircuit(1)\n",
    "newcirc.h(0)\n",
    "# Wende die Pauli-Z-Matrix auf das Qubit an\n",
    "newcirc.z(0)\n",
    "\n",
    "# Formuliere den Zustandsvektor, der zu präparieren ist\n",
    "statevector = Statevector.from_instruction(circ)\n",
    "# Setze den initial präperierten Zustand des Quantensystems\n",
    "# gleich dem gewünschten Zustandsvektor und\n",
    "# initiiere danach die gewünschen Manipulationen\n",
    "statevector = statevector.evolve(newcirc)\n",
    "\n",
    "# Gib den Zustandsvektor aus\n",
    "print(statevector)"
   ]
  },
  {
   "cell_type": "code",
   "execution_count": 33,
   "id": "ebf6c590",
   "metadata": {},
   "outputs": [
    {
     "name": "stdout",
     "output_type": "stream",
     "text": [
      "Statevector([ 0.70710678+0.j, -0.70710678+0.j],\n",
      "            dims=(2,))\n"
     ]
    }
   ],
   "source": [
    "# Listing 4.4, S. 95: Anwendung der Pauli-Z-Matrix auf ein Qubit\n",
    "# ----------------------------------------------------------------\n",
    "\n",
    "# (1) NEU: Korrekte Initialisierung mit Hadamard-Gate für |+⟩-Zustand\n",
    "circ = QuantumCircuit(1)\n",
    "circ.h(0)  # Erzeugt Superposition |+⟩ = (|0⟩ + |1⟩)/√2\n",
    "\n",
    "# (2) Z-Gate-Anwendung wie im Originalcode\n",
    "newcirc = QuantumCircuit(1)\n",
    "newcirc.z(0)\n",
    "\n",
    "# (3) Zustandsentwicklung\n",
    "statevector = Statevector.from_instruction(circ)\n",
    "statevector = statevector.evolve(newcirc)\n",
    "\n",
    "print(statevector)  # Jetzt korrekt: [0.707, -0.707]\n"
   ]
  }
 ],
 "metadata": {
  "kernelspec": {
   "display_name": "base",
   "language": "python",
   "name": "python3"
  },
  "language_info": {
   "codemirror_mode": {
    "name": "ipython",
    "version": 3
   },
   "file_extension": ".py",
   "mimetype": "text/x-python",
   "name": "python",
   "nbconvert_exporter": "python",
   "pygments_lexer": "ipython3",
   "version": "3.12.7"
  }
 },
 "nbformat": 4,
 "nbformat_minor": 5
}
