{
 "cells": [
  {
   "cell_type": "code",
   "execution_count": null,
   "id": "e1c70876",
   "metadata": {},
   "outputs": [
    {
     "name": "stdout",
     "output_type": "stream",
     "text": [
      "(3+2j)\n",
      "(5+1j)\n",
      "3.605551275463989\n",
      "(2-3j)\n"
     ]
    }
   ],
   "source": [
    "'komplex Zahlen'\n",
    "\n",
    "a = 2 + 3j\n",
    "b = 1 - 1j\n",
    "print(a + b)          # Addition\n",
    "print(a * b)          # Multiplikation\n",
    "print(abs(a))         # Betrag\n",
    "print(a.conjugate())  # Konjugation\n"
   ]
  },
  {
   "cell_type": "code",
   "execution_count": 45,
   "id": "550db32d",
   "metadata": {},
   "outputs": [
    {
     "name": "stdout",
     "output_type": "stream",
     "text": [
      "11\n",
      "2.23606797749979\n",
      "[[1 3]\n",
      " [2 4]]\n",
      "[[1 3]\n",
      " [2 4]]\n"
     ]
    }
   ],
   "source": [
    "'Lineare Algebra (Vektoren, Matrizen, Skalarprodukt)'\n",
    "\n",
    "import numpy as np\n",
    "\n",
    "# Vektoren\n",
    "v = np.array([1, 2])\n",
    "w = np.array([3, 4])\n",
    "\n",
    "# Skalarprodukt\n",
    "print(np.vdot(v, w))\n",
    "\n",
    "# Norm\n",
    "print(np.linalg.norm(v))\n",
    "\n",
    "# Matrizen\n",
    "A = np.array([[1, 2], [3, 4]])\n",
    "print(A.T)            # Transponierte\n",
    "print(A.conj().T)     # Hermitesch Transponierte\n",
    "\n"
   ]
  },
  {
   "cell_type": "code",
   "execution_count": 46,
   "id": "44e88eb3",
   "metadata": {},
   "outputs": [
    {
     "name": "stdout",
     "output_type": "stream",
     "text": [
      "Statevector([0.+0.j, 1.+0.j],\n",
      "            dims=(2,))\n"
     ]
    }
   ],
   "source": [
    "\"\"\"Für alles rund um Qubits, Quantenzustände und Quantenoperationen empfiehlt \n",
    "das Buch explizit Qiskit. Damit lassen sich Zustände präparieren, Manipulationen \n",
    "und Messungen simulieren sowie Visualisierungen erzeugen.\"\"\"\n",
    "\n",
    "from qiskit import QuantumCircuit\n",
    "from qiskit.quantum_info import Statevector\n",
    "\n",
    "qc = QuantumCircuit(1)\n",
    "statevector = Statevector.from_label('1')\n",
    "print(statevector)\n"
   ]
  },
  {
   "cell_type": "code",
   "execution_count": 47,
   "id": "44386e63",
   "metadata": {},
   "outputs": [
    {
     "name": "stdout",
     "output_type": "stream",
     "text": [
      "True\n",
      "False\n",
      "True\n",
      "True\n",
      "True\n"
     ]
    }
   ],
   "source": [
    "\"\"\"S. 51, Übung 2.1 Zeigen Sie, dass Unterräume selbst wieder Vektorräume sind.\n",
    "Ein Unterraum ist eine Teilmenge von Vektoren, die selbst wieder wie ein \"kleiner Vektorraum\" \n",
    "funktioniert. Das heißt: Wenn du zwei Vektoren aus dem Unterraum nimmst und sie addierst, \n",
    "bist du immer noch im Unterraum. Das Gleiche gilt, wenn du einen Vektor mit einer Zahl (Skalar)\n",
    "multiplizierst.\"\"\"\n",
    "\n",
    "import numpy as np\n",
    "\n",
    "# Beispiel: Unterraum W des R^2, alle Vektoren der Form (x, 0)\n",
    "def ist_unterraum(v1, v2, skalar):\n",
    "    add = v1 + v2\n",
    "    skal = skalar * v1\n",
    "    return add[1] == 0 and skal[1] == 0\n",
    "\n",
    "v1 = np.array([1, 0])\n",
    "v2 = np.array([2, 0])\n",
    "skalar = 3\n",
    "\n",
    "print(ist_unterraum(v1, v2, skalar))  # Ausgabe: True\n",
    "\n",
    "v1 = np.array([1, 1])  # y-Komponente ist 1 (nicht im Unterraum)\n",
    "v2 = np.array([2, 0])  # y-Komponente ist 0 (im Unterraum)\n",
    "skalar = 3\n",
    "\n",
    "print(ist_unterraum(v1, v2, skalar))  # Was passiert?\n",
    "\n",
    "def ist_unterraum_y_achse(v1, v2, skalar):\n",
    "    add = v1 + v2\n",
    "    skal = skalar * v1\n",
    "    return add[0] == 0 and skal[0] == 0  # Jetzt prüfen wir x = 0 statt y = 0\n",
    "\n",
    "v1 = np.array([0, 1])  # Liegt auf der y-Achse\n",
    "v2 = np.array([0, 2])  # Liegt auf der y-Achse\n",
    "skalar = 3\n",
    "\n",
    "print(ist_unterraum_y_achse(v1, v2, skalar))  # Ausgabe: True\n",
    "\n",
    "\n",
    "\n",
    "def ist_unterraum_x_gleich_y(v1, v2, skalar):\n",
    "    add = v1 + v2\n",
    "    skal = skalar * v1\n",
    "    return add[0] == add[1] and skal[0] == skal[1]  # Prüft x = y\n",
    "\n",
    "v1 = np.array([1, 1])  # x = y ✔\n",
    "v2 = np.array([2, 2])  # x = y ✔\n",
    "skalar = 3\n",
    "\n",
    "print(ist_unterraum_x_gleich_y(v1, v2, skalar))  # Ausgabe: True\n",
    "\n",
    "\n",
    "\"\"\"v1 = 5  # Kein Vektor, sondern eine Zahl\n",
    "v2 = np.array([2, 0])\n",
    "skalar = 3\n",
    "\n",
    "print(ist_unterraum(v1, v2, skalar))  # Fehler!\"\"\"\n",
    "\n",
    "\"\"\"v1 = np.array([1, 0, 0])  # 3D-Vektor\n",
    "v2 = np.array([2, 0])     # 2D-Vektor\n",
    "skalar = 3\n",
    "\n",
    "print(ist_unterraum(v1, v2, skalar))  # Fehler!\"\"\"\n",
    "\n",
    "\n",
    "def ist_unterraum_allgemein(v1, v2, skalar, bedingung):\n",
    "    add = v1 + v2\n",
    "    skal = skalar * v1\n",
    "    return bedingung(add) and bedingung(skal)\n",
    "\n",
    "def bedingung_x_achse(v):\n",
    "    return v[1] == 0\n",
    "\n",
    "v1 = np.array([1, 0])\n",
    "v2 = np.array([2, 0])\n",
    "skalar = 3\n",
    "\n",
    "print(ist_unterraum_allgemein(v1, v2, skalar, bedingung_x_achse))  # True"
   ]
  },
  {
   "cell_type": "code",
   "execution_count": 48,
   "id": "e1c2381a",
   "metadata": {},
   "outputs": [
    {
     "name": "stdout",
     "output_type": "stream",
     "text": [
      "Skalarprodukt: (8+0j)\n",
      "Norm von u: 2.449489742783178\n"
     ]
    }
   ],
   "source": [
    "'S. 51, Übung 2.2: Skalarprodukt und Norm. Sei H ein Hilbertraum. Zeigen Sie, dass eine Norm auf H definiert wird. '\n",
    "\n",
    "def skalarprodukt(u, v):\n",
    "    return np.vdot(u, v)\n",
    "\n",
    "def norm(v):\n",
    "    return np.linalg.norm(v)\n",
    "\n",
    "u = np.array([1+1j, 2])\n",
    "v = np.array([2, 3+1j])\n",
    "\n",
    "print(\"Skalarprodukt:\", skalarprodukt(u, v))\n",
    "print(\"Norm von u:\", norm(u))\n"
   ]
  },
  {
   "cell_type": "code",
   "execution_count": 51,
   "id": "cf15ba41",
   "metadata": {},
   "outputs": [
    {
     "name": "stdout",
     "output_type": "stream",
     "text": [
      "Eigenwerte: [2. 3.]\n",
      "Eigenvektoren:\n",
      " [[1. 0.]\n",
      " [0. 1.]]\n",
      "A angewendet auf Eigenvektor: [2. 0.]\n",
      "Vergleich: Eigenwert mal Eigenvektor: [2. 0.]\n"
     ]
    }
   ],
   "source": [
    "'S. 51 Übung 2.4 Sei V ein Vektorraum und A ∈ L(V ). Zeigen Sie, dass die Eigenräume von A invariante Unterräume von V sind.'\n",
    "\n",
    "\n",
    "# Matrix und Eigenvektor\n",
    "A = np.array([[2, 0], [0, 3]])\n",
    "eigvals, eigvecs = np.linalg.eig(A)\n",
    "\n",
    "print(\"Eigenwerte:\", eigvals)\n",
    "print(\"Eigenvektoren:\\n\", eigvecs)\n",
    "\n",
    "# Wir nehmen den ersten Eigenvektor und wenden A darauf an\n",
    "v = eigvecs[:, 0]\n",
    "result = A @ v\n",
    "print(\"A angewendet auf Eigenvektor:\", result)\n",
    "print(\"Vergleich: Eigenwert mal Eigenvektor:\", eigvals[0] * v)\n",
    "\n"
   ]
  },
  {
   "cell_type": "code",
   "execution_count": 52,
   "id": "a5e46f16",
   "metadata": {},
   "outputs": [
    {
     "name": "stdout",
     "output_type": "stream",
     "text": [
      "Matrix A:\n",
      "[[1.+2.j 2.-1.j]\n",
      " [3.+0.j 4.-2.j]]\n",
      "\n",
      "Hermitesch Transponierte A^H:\n",
      "[[1.-2.j 3.-0.j]\n",
      " [2.+1.j 4.+2.j]]\n",
      "\n",
      "Adjungierte A^*:\n",
      "[[1.-2.j 3.-0.j]\n",
      " [2.+1.j 4.+2.j]]\n",
      "\n",
      "Sind A^H und A^* gleich? True\n"
     ]
    }
   ],
   "source": [
    "'S.51 Übung 2.3 Gegeben ist eine komplexe quadratische Matrix. Zeigen Sie, dass die hermitesch transponierte Matrix und der adjungierte Operator identisch sind.'\n",
    "\n",
    "import numpy as np\n",
    "\n",
    "# Beispielmatrix mit komplexen Einträgen\n",
    "A = np.array([[1+2j, 2-1j], [3+0j, 4-2j]])\n",
    "\n",
    "# Hermitesch Transponierte (conjugate transpose)\n",
    "A_H = A.conj().T\n",
    "\n",
    "# Adjungierte (in NumPy identisch)\n",
    "A_star = np.conjugate(A).T\n",
    "\n",
    "print(\"Matrix A:\")\n",
    "print(A)\n",
    "print(\"\\nHermitesch Transponierte A^H:\")\n",
    "print(A_H)\n",
    "print(\"\\nAdjungierte A^*:\")\n",
    "print(A_star)\n",
    "\n",
    "# Überprüfung, ob beide Matrizen gleich sind\n",
    "print(\"\\nSind A^H und A^* gleich?\", np.allclose(A_H, A_star))\n"
   ]
  }
 ],
 "metadata": {
  "kernelspec": {
   "display_name": "base",
   "language": "python",
   "name": "python3"
  },
  "language_info": {
   "codemirror_mode": {
    "name": "ipython",
    "version": 3
   },
   "file_extension": ".py",
   "mimetype": "text/x-python",
   "name": "python",
   "nbconvert_exporter": "python",
   "pygments_lexer": "ipython3",
   "version": "3.12.7"
  }
 },
 "nbformat": 4,
 "nbformat_minor": 5
}
